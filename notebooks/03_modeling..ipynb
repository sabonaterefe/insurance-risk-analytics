{
 "cells": [
  {
   "cell_type": "code",
   "execution_count": null,
   "id": "4dbad027-0022-46ad-9ef9-343ee4719f0a",
   "metadata": {},
   "outputs": [],
   "source": []
  }
 ],
 "metadata": {
  "kernelspec": {
   "display_name": "",
   "name": ""
  },
  "language_info": {
   "name": ""
  }
 },
 "nbformat": 4,
 "nbformat_minor": 5
}
